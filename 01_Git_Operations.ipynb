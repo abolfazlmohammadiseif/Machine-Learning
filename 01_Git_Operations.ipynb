{
 "cells": [
  {
   "cell_type": "markdown",
   "id": "0eb76d3c",
   "metadata": {},
   "source": [
    "### GIT Commands in Summary"
   ]
  },
  {
   "cell_type": "markdown",
   "id": "c1792586",
   "metadata": {},
   "source": [
    "#### 1. initialize Git"
   ]
  },
  {
   "cell_type": "markdown",
   "id": "e1138f77",
   "metadata": {},
   "source": [
    "Create your local project and redirect to the project folder. Then run the following command to initialize the git."
   ]
  },
  {
   "cell_type": "code",
   "execution_count": null,
   "id": "316e80c3",
   "metadata": {},
   "outputs": [],
   "source": [
    "git init"
   ]
  },
  {
   "cell_type": "markdown",
   "id": "114ba6b4",
   "metadata": {},
   "source": [
    "#### 2. get the status"
   ]
  },
  {
   "cell_type": "code",
   "execution_count": null,
   "id": "2543133c",
   "metadata": {},
   "outputs": [],
   "source": [
    "git status"
   ]
  },
  {
   "cell_type": "markdown",
   "id": "d1f21674",
   "metadata": {},
   "source": [
    "#### 3. Add Files"
   ]
  },
  {
   "cell_type": "markdown",
   "id": "5ee278db",
   "metadata": {},
   "source": [
    "Add the file to the local repository. The following command adds all the files to the folder."
   ]
  },
  {
   "cell_type": "code",
   "execution_count": null,
   "id": "76852cab",
   "metadata": {},
   "outputs": [],
   "source": [
    " git add ."
   ]
  },
  {
   "cell_type": "markdown",
   "id": "d80cb4bb",
   "metadata": {},
   "source": [
    "#### 4. Set Your Information"
   ]
  },
  {
   "cell_type": "raw",
   "id": "6aeb2a39",
   "metadata": {},
   "source": [
    "git config --global user.email \"you@example.com\"\n",
    "\n",
    "git config --global user.name \"Your Name\""
   ]
  },
  {
   "cell_type": "markdown",
   "id": "c82ffab0",
   "metadata": {},
   "source": [
    "#### 5. Commit your Modifications"
   ]
  },
  {
   "cell_type": "markdown",
   "id": "e860ac63",
   "metadata": {},
   "source": [
    "'-m' is a flag for a message"
   ]
  },
  {
   "cell_type": "raw",
   "id": "8f02fb77",
   "metadata": {},
   "source": [
    "git commit -m 'your message'"
   ]
  },
  {
   "cell_type": "markdown",
   "id": "f9c45b83",
   "metadata": {},
   "source": [
    "#### Add the repository url"
   ]
  },
  {
   "cell_type": "markdown",
   "id": "76294ff4",
   "metadata": {},
   "source": [
    "Add the URL of your remote repository. You might create the repository first or not. This is where your local repository is being pushed to. "
   ]
  },
  {
   "cell_type": "code",
   "execution_count": null,
   "id": "6b13cac7",
   "metadata": {},
   "outputs": [],
   "source": [
    " git remote add origin 'https://github.com/abolfazlmohammadiseif/machine-learning'"
   ]
  },
  {
   "cell_type": "markdown",
   "id": "fff52b57",
   "metadata": {},
   "source": [
    "You can use the command \"git remote set-url\" to change a remote's URL.\n",
    "\n"
   ]
  },
  {
   "cell_type": "markdown",
   "id": "39f7f866",
   "metadata": {},
   "source": [
    "#### Push the code"
   ]
  },
  {
   "cell_type": "markdown",
   "id": "a7b5b41c",
   "metadata": {},
   "source": [
    "Push the code in your local repository to GitHub"
   ]
  },
  {
   "cell_type": "code",
   "execution_count": null,
   "id": "fbe0031b",
   "metadata": {},
   "outputs": [],
   "source": [
    "git push -u origin master"
   ]
  }
 ],
 "metadata": {
  "kernelspec": {
   "display_name": "Python 3 (ipykernel)",
   "language": "python",
   "name": "python3"
  },
  "language_info": {
   "codemirror_mode": {
    "name": "ipython",
    "version": 3
   },
   "file_extension": ".py",
   "mimetype": "text/x-python",
   "name": "python",
   "nbconvert_exporter": "python",
   "pygments_lexer": "ipython3",
   "version": "3.11.4"
  }
 },
 "nbformat": 4,
 "nbformat_minor": 5
}
