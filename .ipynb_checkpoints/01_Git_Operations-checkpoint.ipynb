{
 "cells": [
  {
   "cell_type": "markdown",
   "id": "6fd096ad",
   "metadata": {},
   "source": [
    "#### 1. initialize Git"
   ]
  },
  {
   "cell_type": "code",
   "execution_count": null,
   "id": "e2385f4c",
   "metadata": {},
   "outputs": [],
   "source": [
    "git init"
   ]
  },
  {
   "cell_type": "markdown",
   "id": "85bf217d",
   "metadata": {},
   "source": [
    "#### 2. get the status"
   ]
  },
  {
   "cell_type": "code",
   "execution_count": null,
   "id": "6700ae9c",
   "metadata": {},
   "outputs": [],
   "source": [
    "git status"
   ]
  },
  {
   "cell_type": "markdown",
   "id": "774cf9a1",
   "metadata": {},
   "source": [
    "#### 3. Add Files"
   ]
  },
  {
   "cell_type": "code",
   "execution_count": null,
   "id": "19b23178",
   "metadata": {},
   "outputs": [],
   "source": [
    " git add ."
   ]
  },
  {
   "cell_type": "code",
   "execution_count": null,
   "id": "0ddb40cf",
   "metadata": {},
   "outputs": [],
   "source": []
  }
 ],
 "metadata": {
  "kernelspec": {
   "display_name": "Python 3 (ipykernel)",
   "language": "python",
   "name": "python3"
  },
  "language_info": {
   "codemirror_mode": {
    "name": "ipython",
    "version": 3
   },
   "file_extension": ".py",
   "mimetype": "text/x-python",
   "name": "python",
   "nbconvert_exporter": "python",
   "pygments_lexer": "ipython3",
   "version": "3.11.4"
  }
 },
 "nbformat": 4,
 "nbformat_minor": 5
}
