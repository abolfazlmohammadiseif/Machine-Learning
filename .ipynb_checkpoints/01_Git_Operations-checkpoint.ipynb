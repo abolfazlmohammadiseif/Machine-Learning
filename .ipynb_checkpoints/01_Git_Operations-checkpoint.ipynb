{
 "cells": [
  {
   "cell_type": "markdown",
   "id": "516e7a14",
   "metadata": {},
   "source": [
    "### GIT Commands in Summary"
   ]
  },
  {
   "cell_type": "markdown",
   "id": "b6854f31",
   "metadata": {},
   "source": [
    "#### 1. initialize Git"
   ]
  },
  {
   "cell_type": "markdown",
   "id": "c27885cc",
   "metadata": {},
   "source": [
    "Create your local project and redirect to the project folder. Then run the following command to initialize the git."
   ]
  },
  {
   "cell_type": "raw",
   "id": "58efbbf6",
   "metadata": {},
   "source": [
    "git init"
   ]
  },
  {
   "cell_type": "markdown",
   "id": "09342416",
   "metadata": {},
   "source": [
    "#### 2. get the status"
   ]
  },
  {
   "cell_type": "raw",
   "id": "48d9f26c",
   "metadata": {},
   "source": [
    "git status"
   ]
  },
  {
   "cell_type": "markdown",
   "id": "bbb67c36",
   "metadata": {},
   "source": [
    "#### 3. Add Files"
   ]
  },
  {
   "cell_type": "markdown",
   "id": "39f87daa",
   "metadata": {},
   "source": [
    "Add the file to the local repository. The following command adds all the files to the folder."
   ]
  },
  {
   "cell_type": "raw",
   "id": "7e1c7a8e",
   "metadata": {},
   "source": [
    " git add ."
   ]
  },
  {
   "cell_type": "markdown",
   "id": "a3614509",
   "metadata": {},
   "source": [
    "#### 4. Set Your Information"
   ]
  },
  {
   "cell_type": "raw",
   "id": "375b4fa8",
   "metadata": {},
   "source": [
    "git config --global user.email \"you@example.com\"\n",
    "\n",
    "git config --global user.name \"Your Name\""
   ]
  },
  {
   "cell_type": "markdown",
   "id": "4e7eca6c",
   "metadata": {},
   "source": [
    "#### 5. Commit your Modifications"
   ]
  },
  {
   "cell_type": "markdown",
   "id": "7aa5a555",
   "metadata": {},
   "source": [
    "'-m' is a flag for a message"
   ]
  },
  {
   "cell_type": "raw",
   "id": "6cf455e8",
   "metadata": {},
   "source": [
    "git commit -m 'your message'"
   ]
  },
  {
   "cell_type": "markdown",
   "id": "c3adb337",
   "metadata": {},
   "source": [
    "#### 6. Add the repository url"
   ]
  },
  {
   "cell_type": "markdown",
   "id": "b55ec766",
   "metadata": {},
   "source": [
    "Add the URL of your remote repository. You might create the repository first or not. This is where your local repository is being pushed to. "
   ]
  },
  {
   "cell_type": "raw",
   "id": "ee59c9c7",
   "metadata": {},
   "source": [
    " git remote add origin 'https://github.com/abolfazlmohammadiseif/machine-learning'"
   ]
  },
  {
   "cell_type": "markdown",
   "id": "09dc3c44",
   "metadata": {},
   "source": [
    "You can use the command \"git remote set-url\" to change a remote's URL. You can check if you have added the remote as HTTPS or SSH using:"
   ]
  },
  {
   "cell_type": "raw",
   "id": "a48423bb",
   "metadata": {},
   "source": [
    "git remote -v"
   ]
  },
  {
   "cell_type": "markdown",
   "id": "31892a5a",
   "metadata": {},
   "source": [
    "#### 7. Push the code"
   ]
  },
  {
   "cell_type": "markdown",
   "id": "706860fd",
   "metadata": {},
   "source": [
    "Push the code in your local repository to GitHub"
   ]
  },
  {
   "cell_type": "raw",
   "id": "3e2b6b6b",
   "metadata": {},
   "source": [
    "git push -u origin master"
   ]
  }
 ],
 "metadata": {
  "kernelspec": {
   "display_name": "Python 3 (ipykernel)",
   "language": "python",
   "name": "python3"
  },
  "language_info": {
   "codemirror_mode": {
    "name": "ipython",
    "version": 3
   },
   "file_extension": ".py",
   "mimetype": "text/x-python",
   "name": "python",
   "nbconvert_exporter": "python",
   "pygments_lexer": "ipython3",
   "version": "3.11.4"
  }
 },
 "nbformat": 4,
 "nbformat_minor": 5
}
